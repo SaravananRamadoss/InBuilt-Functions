{
 "cells": [
  {
   "cell_type": "code",
   "execution_count": 3,
   "metadata": {},
   "outputs": [
    {
     "name": "stdout",
     "output_type": "stream",
     "text": [
      "The orginal list is: [1, 2, 3, 4, 5, 6, 7, 8]\n",
      "\n",
      " Triple the list is:\n",
      "[3, 6, 9, 12, 15, 18, 21, 24]\n"
     ]
    }
   ],
   "source": [
    "###Triple All numbers in the list\n",
    "num=[1,2,3,4,5,6,7,8]\n",
    "print(\"The orginal list is:\", num)\n",
    "result=map(lambda x: x+x+x,num)\n",
    "print(\"\\n Triple the list is:\")\n",
    "print(list(result))"
   ]
  },
  {
   "cell_type": "code",
   "execution_count": 5,
   "metadata": {},
   "outputs": [
    {
     "name": "stdout",
     "output_type": "stream",
     "text": [
      "The orginal list is: \n",
      "[1, 2, 3, 4, 5]\n",
      "[6, 7, 8, 9, 10]\n",
      "[5, 4, 3, 2, 1]\n",
      "\n",
      " after added the three list is: \n",
      "[12, 13, 14, 15, 16]\n"
     ]
    }
   ],
   "source": [
    "###Add theree given list\n",
    "num1=[1,2,3,4,5]\n",
    "num2=[6,7,8,9,10]\n",
    "num3=[5,4,3,2,1]\n",
    "print(\"The orginal list is: \")\n",
    "print(num1)\n",
    "print(num2)\n",
    "print(num3)\n",
    "result=map(lambda x,y,z:x+y+z,num1,num2,num3)\n",
    "print(\"\\n after added the three list is: \")\n",
    "print(list(result))"
   ]
  },
  {
   "cell_type": "code",
   "execution_count": 11,
   "metadata": {},
   "outputs": [
    {
     "name": "stdout",
     "output_type": "stream",
     "text": [
      "The orginal list is:\n",
      "['red', 'green', 'yellow', 'blue', 'black']\n",
      "\n",
      " After listfy the list is:\n",
      "[['r', 'e', 'd'], ['g', 'r', 'e', 'e', 'n'], ['y', 'e', 'l', 'l', 'o', 'w'], ['b', 'l', 'u', 'e'], ['b', 'l', 'a', 'c', 'k']]\n"
     ]
    }
   ],
   "source": [
    "###Listfy the list of given string\n",
    "color=[\"red\",\"green\",\"yellow\",\"blue\",\"black\"]\n",
    "print(\"The orginal list is:\")\n",
    "print(color)\n",
    "result=list(map(list,color))\n",
    "print(\"\\n After listfy the list is:\")\n",
    "print(result)"
   ]
  },
  {
   "cell_type": "code",
   "execution_count": 30,
   "metadata": {},
   "outputs": [
    {
     "name": "stdout",
     "output_type": "stream",
     "text": [
      "[6, 7, 8, 9]\n"
     ]
    }
   ],
   "source": [
    "###Filter\n",
    "def filterdata(x):\n",
    "    if x>5:\n",
    "        return x\n",
    "result=filter(filterdata,num)\n",
    "num=(1,2,3,4,5,6,7,8,9)\n",
    "print(list(result))"
   ]
  },
  {
   "cell_type": "code",
   "execution_count": 61,
   "metadata": {},
   "outputs": [
    {
     "name": "stdout",
     "output_type": "stream",
     "text": [
      "The odd numbers in the given list:\n",
      "[1, 3, 5, 7, 7, 89, 67, 77]\n",
      "The even numbers in the given list is:\n",
      "[2, 4, 6, 34, 22, 8]\n"
     ]
    }
   ],
   "source": [
    "###Seperate the odd numbers and even numbers\n",
    "num=[1,2,3,4,5,6,7,7,89,34,67,22,77,8]\n",
    "\n",
    "oddnum=filter(lambda x:x%2!=0,num)\n",
    "print(\"The odd numbers in the given list:\")\n",
    "print(list(oddnum))\n",
    "\n",
    "evennum=filter(lambda x:x%2==0,num)\n",
    "print(\"The even numbers in the given list is:\")\n",
    "print(list(evennum))"
   ]
  },
  {
   "cell_type": "code",
   "execution_count": 1,
   "metadata": {},
   "outputs": [
    {
     "name": "stdout",
     "output_type": "stream",
     "text": [
      "apple\n",
      "ae\n"
     ]
    }
   ],
   "source": [
    "def vowels(n):\n",
    "    x=n.lower()\n",
    "    char=\"\"\n",
    "    for i in x:\n",
    "        if i in \"aeiou\":\n",
    "            char=char+i\n",
    "\n",
    "    print(char)\n",
    "vowels(input())"
   ]
  },
  {
   "cell_type": "code",
   "execution_count": 4,
   "metadata": {},
   "outputs": [
    {
     "name": "stdout",
     "output_type": "stream",
     "text": [
      "enter a word or sentence :\n",
      "saravanan\n",
      "aaaa\n"
     ]
    }
   ],
   "source": [
    "print(\"enter a word or sentence :\")\n",
    "n=input()\n",
    "x=n.lower()\n",
    "char=\"\"\n",
    "for i in x:\n",
    "    if i in \"aeiou\":\n",
    "        char=char+i\n",
    "\n",
    "print(char)"
   ]
  },
  {
   "cell_type": "code",
   "execution_count": null,
   "metadata": {},
   "outputs": [],
   "source": []
  }
 ],
 "metadata": {
  "kernelspec": {
   "display_name": "Python 3",
   "language": "python",
   "name": "python3"
  },
  "language_info": {
   "codemirror_mode": {
    "name": "ipython",
    "version": 3
   },
   "file_extension": ".py",
   "mimetype": "text/x-python",
   "name": "python",
   "nbconvert_exporter": "python",
   "pygments_lexer": "ipython3",
   "version": "3.8.3"
  }
 },
 "nbformat": 4,
 "nbformat_minor": 4
}
